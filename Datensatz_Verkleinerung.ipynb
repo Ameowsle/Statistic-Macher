{
 "cells": [
  {
   "cell_type": "code",
   "execution_count": null,
   "id": "bb397b91",
   "metadata": {},
   "outputs": [
    {
     "name": "stdout",
     "output_type": "stream",
     "text": [
      "Eingabedatei: dataset\\311_Service_Requests.csv\n",
      "Ausgabe wird erstellt unter: dataset\\311_Service_Requests_2024.csv\n"
     ]
    },
    {
     "name": "stderr",
     "output_type": "stream",
     "text": [
      "C:\\Users\\Anastasia\\AppData\\Local\\Temp\\ipykernel_11860\\2485732764.py:14: DtypeWarning: Columns (3,11,12,13,14,20,30) have mixed types. Specify dtype option on import or set low_memory=False.\n",
      "  df = pd.read_csv(path)\n"
     ]
    },
    {
     "name": "stdout",
     "output_type": "stream",
     "text": [
      "Fertig! Gefilterte Datei gespeichert unter: dataset\\311_Service_Requests_2024.csv\n",
      "Zeitraum: 2024-01-01 00:00:12 → 2024-12-31 23:59:43\n",
      "Anzahl Zeilen: 1,913,929\n"
     ]
    }
   ],
   "source": [
    "import pandas as pd\n",
    "from pathlib import Path\n",
    "\n",
    "# Pfad zur Originaldatei\n",
    "path = Path(\"dataset/311_Service_Requests.csv\")\n",
    "\n",
    "# Neuer Dateiname mit _2024\n",
    "output_path = path.with_name(path.stem + \"_2024.csv\")\n",
    "\n",
    "print(f\"Eingabedatei: {path}\")\n",
    "print(f\"Ausgabe wird erstellt unter: {output_path}\")\n",
    "\n",
    "# 1. Datensatz einlesen\n",
    "df = pd.read_csv(path)\n",
    "\n",
    "# 2. Datumsspalte konvertieren\n",
    "df[\"CREATED_DATE\"] = pd.to_datetime(df[\"CREATED_DATE\"], errors=\"coerce\")\n",
    "\n",
    "# 3. Nur Zeilen mit Jahr 2024 behalten\n",
    "df_2024 = df[df[\"CREATED_DATE\"].dt.year == 2024].copy()\n",
    "\n",
    "# 4. Als neue CSV speichern (identischer Aufbau)\n",
    "df_2024.to_csv(output_path, index=False)\n",
    "\n",
    "print(f\"Fertig! Gefilterte Datei gespeichert unter: {output_path}\")\n",
    "print(f\"Zeitraum: {df_2024['CREATED_DATE'].min()} → {df_2024['CREATED_DATE'].max()}\")\n",
    "print(f\"Anzahl Zeilen: {len(df_2024):,}\")\n"
   ]
  }
 ],
 "metadata": {
  "kernelspec": {
   "display_name": "Python 3",
   "language": "python",
   "name": "python3"
  },
  "language_info": {
   "codemirror_mode": {
    "name": "ipython",
    "version": 3
   },
   "file_extension": ".py",
   "mimetype": "text/x-python",
   "name": "python",
   "nbconvert_exporter": "python",
   "pygments_lexer": "ipython3",
   "version": "3.12.3"
  }
 },
 "nbformat": 4,
 "nbformat_minor": 5
}
