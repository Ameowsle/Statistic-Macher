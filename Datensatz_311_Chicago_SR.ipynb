{
 "cells": [
  {
   "cell_type": "code",
   "execution_count": 1,
   "id": "742f2c59",
   "metadata": {},
   "outputs": [],
   "source": [
    "import pandas as pd\n",
    "\n",
    "url = \"https://data.cityofchicago.org/resource/v6vf-nfxy.csv\"\n",
    "\n",
    "df = pd.read_csv(url)\n"
   ]
  },
  {
   "cell_type": "code",
   "execution_count": 2,
   "id": "ab1678d9",
   "metadata": {},
   "outputs": [
    {
     "name": "stdout",
     "output_type": "stream",
     "text": [
      "<class 'pandas.core.frame.DataFrame'>\n",
      "RangeIndex: 1000 entries, 0 to 999\n",
      "Data columns (total 39 columns):\n",
      " #   Column                    Non-Null Count  Dtype  \n",
      "---  ------                    --------------  -----  \n",
      " 0   sr_number                 1000 non-null   object \n",
      " 1   sr_type                   1000 non-null   object \n",
      " 2   sr_short_code             1000 non-null   object \n",
      " 3   created_department        604 non-null    object \n",
      " 4   owner_department          1000 non-null   object \n",
      " 5   status                    1000 non-null   object \n",
      " 6   origin                    1000 non-null   object \n",
      " 7   created_date              1000 non-null   object \n",
      " 8   last_modified_date        1000 non-null   object \n",
      " 9   closed_date               629 non-null    object \n",
      " 10  street_address            1000 non-null   object \n",
      " 11  city                      919 non-null    object \n",
      " 12  state                     919 non-null    object \n",
      " 13  zip_code                  878 non-null    float64\n",
      " 14  street_number             994 non-null    float64\n",
      " 15  street_direction          994 non-null    object \n",
      " 16  street_name               1000 non-null   object \n",
      " 17  street_type               976 non-null    object \n",
      " 18  duplicate                 1000 non-null   bool   \n",
      " 19  legacy_record             1000 non-null   bool   \n",
      " 20  legacy_sr_number          0 non-null      float64\n",
      " 21  parent_sr_number          21 non-null     object \n",
      " 22  community_area            820 non-null    float64\n",
      " 23  ward                      820 non-null    float64\n",
      " 24  electrical_district       668 non-null    float64\n",
      " 25  electricity_grid          668 non-null    object \n",
      " 26  police_sector             820 non-null    float64\n",
      " 27  police_district           820 non-null    float64\n",
      " 28  police_beat               820 non-null    float64\n",
      " 29  precinct                  820 non-null    float64\n",
      " 30  sanitation_division_days  0 non-null      float64\n",
      " 31  created_hour              1000 non-null   int64  \n",
      " 32  created_day_of_week       1000 non-null   int64  \n",
      " 33  created_month             1000 non-null   int64  \n",
      " 34  x_coordinate              834 non-null    float64\n",
      " 35  y_coordinate              834 non-null    float64\n",
      " 36  latitude                  824 non-null    float64\n",
      " 37  longitude                 824 non-null    float64\n",
      " 38  location                  824 non-null    object \n",
      "dtypes: bool(2), float64(15), int64(3), object(19)\n",
      "memory usage: 291.1+ KB\n",
      "None\n"
     ]
    }
   ],
   "source": [
    "print(df.info())"
   ]
  },
  {
   "cell_type": "code",
   "execution_count": 3,
   "id": "5912600e",
   "metadata": {},
   "outputs": [
    {
     "name": "stdout",
     "output_type": "stream",
     "text": [
      "       sr_number                       sr_type sr_short_code  \\\n",
      "0  SR25-01760484      Graffiti Removal Request          GRAF   \n",
      "1  SR25-01760483                Check for Leak           WM3   \n",
      "2  SR25-01760482      Aircraft Noise Complaint           AVN   \n",
      "3  SR25-01760481     311 INFORMATION ONLY CALL        311IOC   \n",
      "4  SR25-01760480  Rodent Baiting/Rat Complaint           SGA   \n",
      "\n",
      "       created_department                      owner_department     status  \\\n",
      "0       311 City Services                Streets and Sanitation       Open   \n",
      "1       311 City Services  DWM - Department of Water Management       Open   \n",
      "2                     NaN                              Aviation  Completed   \n",
      "3       311 City Services                     311 City Services  Completed   \n",
      "4  Streets and Sanitation                Streets and Sanitation       Open   \n",
      "\n",
      "       origin             created_date       last_modified_date  \\\n",
      "0  Phone Call  2025-09-25T09:15:29.000  2025-09-25T09:15:32.000   \n",
      "1  Phone Call  2025-09-25T09:15:13.000  2025-09-25T09:15:15.000   \n",
      "2    Internet  2025-09-25T09:15:12.000  2025-09-25T09:15:13.000   \n",
      "3  Phone Call  2025-09-25T09:15:02.000  2025-09-25T09:15:02.000   \n",
      "4  Phone Call  2025-09-25T09:14:49.000  2025-09-25T09:14:50.000   \n",
      "\n",
      "               closed_date  ... precinct sanitation_division_days  \\\n",
      "0                      NaN  ...     37.0                      NaN   \n",
      "1                      NaN  ...     40.0                      NaN   \n",
      "2  2025-09-25T09:15:12.000  ...      NaN                      NaN   \n",
      "3  2025-09-25T09:15:02.000  ...      NaN                      NaN   \n",
      "4                      NaN  ...      4.0                      NaN   \n",
      "\n",
      "  created_hour  created_day_of_week  created_month  x_coordinate  \\\n",
      "0            9                    5              9  1.162643e+06   \n",
      "1            9                    5              9  1.193074e+06   \n",
      "2            9                    5              9           NaN   \n",
      "3            9                    5              9           NaN   \n",
      "4            9                    5              9  1.153323e+06   \n",
      "\n",
      "   y_coordinate   latitude  longitude  \\\n",
      "0  1.914649e+06  41.921461 -87.677837   \n",
      "1  1.841086e+06  41.718906 -87.568434   \n",
      "2           NaN        NaN        NaN   \n",
      "3           NaN        NaN        NaN   \n",
      "4  1.924353e+06  41.948280 -87.711822   \n",
      "\n",
      "                                     location  \n",
      "0  \\n,  \\n(41.921461327208, -87.677836562792)  \n",
      "1   \\n,  \\n(41.71890600094, -87.568434000002)  \n",
      "2                                         NaN  \n",
      "3                                         NaN  \n",
      "4  \\n,  \\n(41.948280000941, -87.711822000002)  \n",
      "\n",
      "[5 rows x 39 columns]\n"
     ]
    }
   ],
   "source": [
    "print(df.head())"
   ]
  }
 ],
 "metadata": {
  "kernelspec": {
   "display_name": "Python 3",
   "language": "python",
   "name": "python3"
  },
  "language_info": {
   "codemirror_mode": {
    "name": "ipython",
    "version": 3
   },
   "file_extension": ".py",
   "mimetype": "text/x-python",
   "name": "python",
   "nbconvert_exporter": "python",
   "pygments_lexer": "ipython3",
   "version": "3.12.3"
  }
 },
 "nbformat": 4,
 "nbformat_minor": 5
}
