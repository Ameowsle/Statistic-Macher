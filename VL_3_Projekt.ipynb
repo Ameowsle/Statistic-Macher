{
 "cells": [
  {
   "cell_type": "code",
   "execution_count": 1,
   "id": "42bbf4ab",
   "metadata": {},
   "outputs": [],
   "source": [
    "import pandas as pd\n",
    "import matplotlib.pyplot as plt\n",
    "import seaborn as sns\n",
    "from pathlib import Path"
   ]
  },
  {
   "cell_type": "code",
   "execution_count": null,
   "id": "6e5e2780",
   "metadata": {},
   "outputs": [],
   "source": [
    "pd.set_option('display.max_columns', None)\n",
    "pd.set_option('display.max_rows', None)\n",
    "\n",
    "pd.set_option('display.max_info_columns', 10_000)   # zeigt alle Spaltennamen in info()\n",
    "pd.set_option('display.max_info_rows', 200_000)     # zeigt Zeileninfo, wenn nötig\n",
    "\n",
    "\n",
    "# Pfad zur Datei (liegt im gleichen Ordner wie das Notebook)\n",
    "path = Path(\"311_Service_Requests.csv\")\n",
    "\n",
    "# Einfacher Import\n",
    "df = pd.read_csv(path)"
   ]
  },
  {
   "cell_type": "code",
   "execution_count": null,
   "id": "83d0a2e2",
   "metadata": {},
   "outputs": [],
   "source": [
    "# Anzahl Einträge von Jahr 2024 und 2025\n",
    "df['CREATED_DATE'] = pd.to_datetime(df['CREATED_DATE'], errors='coerce')\n",
    "\n",
    "year_counts = df['CREATED_DATE'].dt.year.value_counts().sort_index()\n",
    "\n",
    "print(year_counts.loc[2024], \"Einträge im Jahr 2024\")\n",
    "print(year_counts.loc[2025], \"Einträge im Jahr 2025\")"
   ]
  },
  {
   "cell_type": "code",
   "execution_count": null,
   "id": "df88d979",
   "metadata": {},
   "outputs": [],
   "source": [
    "# Analyse von Response Time\n",
    "df[\"response_time\"].mean(), df[\"response_time\"].median()\n",
    "df[\"response_time\"].std(), df[\"response_time\"].mad()\n",
    "sns.histplot(df[\"response_time\"], bins=\"fd\", kde=True)\n",
    "sns.boxplot(x=\"service_request_type\", y=\"response_time\", data=df)\n",
    "plt.xticks(rotation=90)"
   ]
  },
  {
   "cell_type": "markdown",
   "id": "18c97e61",
   "metadata": {},
   "source": []
  }
 ],
 "metadata": {
  "kernelspec": {
   "display_name": "Python 3",
   "language": "python",
   "name": "python3"
  },
  "language_info": {
   "codemirror_mode": {
    "name": "ipython",
    "version": 3
   },
   "file_extension": ".py",
   "mimetype": "text/x-python",
   "name": "python",
   "nbconvert_exporter": "python",
   "pygments_lexer": "ipython3",
   "version": "3.12.3"
  }
 },
 "nbformat": 4,
 "nbformat_minor": 5
}
