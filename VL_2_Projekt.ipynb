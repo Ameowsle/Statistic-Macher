{
 "cells": [
  {
   "cell_type": "code",
   "execution_count": null,
   "id": "a8bd1cfa",
   "metadata": {},
   "outputs": [],
   "source": [
    "Lage, Streuung und Verteilungsform"
   ]
  },
  {
   "cell_type": "markdown",
   "id": "90900df3",
   "metadata": {},
   "source": []
  }
 ],
 "metadata": {
  "language_info": {
   "name": "python"
  }
 },
 "nbformat": 4,
 "nbformat_minor": 5
}
